{
 "cells": [
  {
   "cell_type": "code",
   "execution_count": 232,
   "metadata": {
    "collapsed": false
   },
   "outputs": [],
   "source": [
    "from lib.actor import Actor\n",
    "from lib.input_model import *\n",
    "import pandas as pd\n",
    "from collections import Counter, defaultdict\n",
    "from scipy.stats import mode"
   ]
  },
  {
   "cell_type": "markdown",
   "metadata": {
    "collapsed": false
   },
   "source": [
    "Example 4.1 Grassroot democracy"
   ]
  },
  {
   "cell_type": "code",
   "execution_count": 2,
   "metadata": {
    "collapsed": true
   },
   "outputs": [],
   "source": [
    "group_dict = {0:[\"1\",\"2\",\"3\",\"4\",\"5\",\"6\",\"7\"]}\n",
    "topic_dict = {0:3,1:3,2:3}"
   ]
  },
  {
   "cell_type": "code",
   "execution_count": 3,
   "metadata": {
    "collapsed": true
   },
   "outputs": [],
   "source": [
    "generate_motivation_params = {\"method\":\"manual\", \"motivations\":{\"1\":0.8, \"2\":0.52, \"3\":0.3, \"4\":0.44, \n",
    "                                                                  \"5\":0.42, \"6\":0.57, \"7\":0.36}}"
   ]
  },
  {
   "cell_type": "code",
   "execution_count": 4,
   "metadata": {
    "collapsed": true
   },
   "outputs": [],
   "source": [
    "beliefs = {\n",
    "    \"1\": {(1,1):1.35, (1,2):2.47, (1,3):2.54,\n",
    "          (2,1):0.19, (2,2):2.49, (2,3):1.75,\n",
    "          (3,1):1.95, (3,2):1.10, (3,3):2.67},\n",
    "    \"2\": {(1,1):0.88, (1,2):2.03, (1,3):0.67,\n",
    "          (2,1):0.90, (2,2):0.64, (2,3):1.04,\n",
    "          (3,1):1.46, (3,2):1.71, (3,3):2.20},\n",
    "    \"3\": {(1,1):0.20, (1,2):2.59, (1,3):1.50,\n",
    "          (2,1):0.11, (2,2):2.08, (2,3):2.51,\n",
    "          (3,1):1.75, (3,2):1.60, (3,3):0.16},\n",
    "    \"4\": {(1,1):1.22, (1,2):2.36, (1,3):1.87,\n",
    "          (2,1):2.72, (2,2):2.22, (2,3):2.25,\n",
    "          (3,1):1.49, (3,2):2.70, (3,3):0.03},\n",
    "    \"5\": {(1,1):0.67, (1,2):0.40, (1,3):0.04,\n",
    "          (2,1):2.52, (2,2):1.59, (2,3):1.81,\n",
    "          (3,1):2.17, (3,2):0.97, (3,3):0.75},\n",
    "    \"6\": {(1,1):0.57, (1,2):0.66, (1,3):1.98,\n",
    "          (2,1):2.06, (2,2):1.35, (2,3):1.42,\n",
    "          (3,1):1.79, (3,2):0.26, (3,3):0.87},\n",
    "    \"7\": {(1,1):2.67, (1,2):2.03, (1,3):1.81,\n",
    "          (2,1):0.43, (2,2):0.05, (2,3):2.38,\n",
    "          (3,1):2.39, (3,2):2.08, (3,3):1.29},\n",
    "}"
   ]
  },
  {
   "cell_type": "code",
   "execution_count": 5,
   "metadata": {
    "collapsed": true
   },
   "outputs": [],
   "source": [
    "generate_belief_params = {\"method\":\"manual\", \"beliefs\":beliefs}"
   ]
  },
  {
   "cell_type": "code",
   "execution_count": 6,
   "metadata": {
    "collapsed": true
   },
   "outputs": [],
   "source": [
    "topic_relevances = {\n",
    "    \"1\": {1:0.95, 2:0.78, 3:0.68},\n",
    "    \"2\": {1:0.86, 2:0.44, 3:0.28},\n",
    "    \"3\": {1:0.52, 2:0.02, 3:0.37},\n",
    "    \"4\": {1:0.20, 2:0.93, 3:0.20},\n",
    "    \"5\": {1:0.52, 2:0.21, 3:0.52},\n",
    "    \"6\": {1:0.50, 2:0.46, 3:0.74},\n",
    "    \"7\": {1:0.37, 2:0.41, 3:0.31},\n",
    "}"
   ]
  },
  {
   "cell_type": "code",
   "execution_count": 7,
   "metadata": {
    "collapsed": false
   },
   "outputs": [],
   "source": [
    "generate_topic_relevance_params = {\"method\":\"manual\", \"topic_relevances\": topic_relevances}"
   ]
  },
  {
   "cell_type": "code",
   "execution_count": 8,
   "metadata": {
    "collapsed": false
   },
   "outputs": [],
   "source": [
    "config={}\n",
    "config[\"generate_motivation_params\"] = generate_motivation_params\n",
    "config[\"generate_belief_params\"] = generate_belief_params\n",
    "config[\"generate_topic_relevance_params\"] = generate_topic_relevance_params"
   ]
  },
  {
   "cell_type": "code",
   "execution_count": 9,
   "metadata": {
    "collapsed": true
   },
   "outputs": [],
   "source": [
    "actors = []\n",
    "numOfActors = 7"
   ]
  },
  {
   "cell_type": "code",
   "execution_count": 10,
   "metadata": {
    "collapsed": false
   },
   "outputs": [],
   "source": [
    "def _allocate_actors():\n",
    "    motivations = generate_motivation(numOfActors,**config[\"generate_motivation_params\"])\n",
    "    beliefs = generate_belief(numOfActors,**config[\"generate_belief_params\"])\n",
    "    topic_relevances = generate_topic_relevance(numOfActors, **config[\"generate_topic_relevance_params\"])\n",
    "        \n",
    "    for groupId,actor_id_list in group_dict.items():\n",
    "        for actor_id in actor_id_list:\n",
    "            motivation = motivations[actor_id]\n",
    "            belief = beliefs[actor_id]\n",
    "            topic_relevance = topic_relevances[actor_id]\n",
    "            actors.append(Actor(groupId=groupId,motivation=motivation,\n",
    "                                belief=belief,_id=actor_id,topic_relevance=topic_relevance))"
   ]
  },
  {
   "cell_type": "code",
   "execution_count": 11,
   "metadata": {
    "collapsed": false
   },
   "outputs": [],
   "source": [
    "_allocate_actors()"
   ]
  },
  {
   "cell_type": "code",
   "execution_count": 12,
   "metadata": {
    "collapsed": false
   },
   "outputs": [
    {
     "data": {
      "text/plain": [
       "[<lib.actor.Actor instance at 0x7fba9169df38>,\n",
       " <lib.actor.Actor instance at 0x7fba9169df80>,\n",
       " <lib.actor.Actor instance at 0x7fba9169dfc8>,\n",
       " <lib.actor.Actor instance at 0x7fba9169b050>,\n",
       " <lib.actor.Actor instance at 0x7fba9169b098>,\n",
       " <lib.actor.Actor instance at 0x7fba9169b0e0>,\n",
       " <lib.actor.Actor instance at 0x7fba9169b128>]"
      ]
     },
     "execution_count": 12,
     "metadata": {},
     "output_type": "execute_result"
    }
   ],
   "source": [
    "actors"
   ]
  },
  {
   "cell_type": "code",
   "execution_count": 15,
   "metadata": {
    "collapsed": false
   },
   "outputs": [
    {
     "data": {
      "text/html": [
       "<div>\n",
       "<table border=\"1\" class=\"dataframe\">\n",
       "  <thead>\n",
       "    <tr style=\"text-align: right;\">\n",
       "      <th></th>\n",
       "      <th></th>\n",
       "      <th>value</th>\n",
       "      <th>rank</th>\n",
       "    </tr>\n",
       "    <tr>\n",
       "      <th>topic_id</th>\n",
       "      <th>policy_id</th>\n",
       "      <th></th>\n",
       "      <th></th>\n",
       "    </tr>\n",
       "  </thead>\n",
       "  <tbody>\n",
       "    <tr>\n",
       "      <th rowspan=\"3\" valign=\"top\">1</th>\n",
       "      <th>1</th>\n",
       "      <td>1.2825</td>\n",
       "      <td>3</td>\n",
       "    </tr>\n",
       "    <tr>\n",
       "      <th>2</th>\n",
       "      <td>2.3465</td>\n",
       "      <td>2</td>\n",
       "    </tr>\n",
       "    <tr>\n",
       "      <th>3</th>\n",
       "      <td>2.4130</td>\n",
       "      <td>1</td>\n",
       "    </tr>\n",
       "    <tr>\n",
       "      <th rowspan=\"3\" valign=\"top\">2</th>\n",
       "      <th>1</th>\n",
       "      <td>0.1482</td>\n",
       "      <td>3</td>\n",
       "    </tr>\n",
       "    <tr>\n",
       "      <th>2</th>\n",
       "      <td>1.9422</td>\n",
       "      <td>1</td>\n",
       "    </tr>\n",
       "    <tr>\n",
       "      <th>3</th>\n",
       "      <td>1.3650</td>\n",
       "      <td>2</td>\n",
       "    </tr>\n",
       "    <tr>\n",
       "      <th rowspan=\"3\" valign=\"top\">3</th>\n",
       "      <th>1</th>\n",
       "      <td>1.3260</td>\n",
       "      <td>2</td>\n",
       "    </tr>\n",
       "    <tr>\n",
       "      <th>2</th>\n",
       "      <td>0.7480</td>\n",
       "      <td>3</td>\n",
       "    </tr>\n",
       "    <tr>\n",
       "      <th>3</th>\n",
       "      <td>1.8156</td>\n",
       "      <td>1</td>\n",
       "    </tr>\n",
       "  </tbody>\n",
       "</table>\n",
       "</div>"
      ],
      "text/plain": [
       "                     value  rank\n",
       "topic_id policy_id              \n",
       "1        1          1.2825     3\n",
       "         2          2.3465     2\n",
       "         3          2.4130     1\n",
       "2        1          0.1482     3\n",
       "         2          1.9422     1\n",
       "         3          1.3650     2\n",
       "3        1          1.3260     2\n",
       "         2          0.7480     3\n",
       "         3          1.8156     1"
      ]
     },
     "execution_count": 15,
     "metadata": {},
     "output_type": "execute_result"
    }
   ],
   "source": [
    "actors[0].policy_rank"
   ]
  },
  {
   "cell_type": "markdown",
   "metadata": {},
   "source": [
    "### Ballot Engine"
   ]
  },
  {
   "cell_type": "code",
   "execution_count": 281,
   "metadata": {
    "collapsed": false
   },
   "outputs": [],
   "source": [
    "def my_mode_func(x):\n",
    "    new_column = x.ix[:,-1]\n",
    "    res = new_column.mode()\n",
    "    if res.empty:\n",
    "        # pd mode Empty if nothing has 2+ occurrences\n",
    "        #scipy.stats.mode\n",
    "        res = mode(new_column)[0]\n",
    "        return res\n",
    "    else:\n",
    "        return res.values\n",
    "\n",
    "\n",
    "class BallotEngine:\n",
    "\n",
    "    def ballot(actors):\n",
    "        for topic_id in topic_ids:\n",
    "            # initialize ballot_result for this topic_id\n",
    "            # multiple rounds possible if a tie\n",
    "            select_round = 1\n",
    "            ballot_result = pd.DataFrame({\"actor_id\":[actor._id for actor in actors]}).set_index(\"actor_id\")\n",
    "            # call ballot_one_topic recursively\n",
    "            selected_policy_id, ballot_result = BallotEngine.ballot_one_topic(topic_id,\n",
    "                                                                             actors,\n",
    "                                                                             select_round,\n",
    "                                                                             ballot_result)\n",
    "            \n",
    "    @staticmethod\n",
    "    def ballot_one_topic(topic_id, actors, select_round, ballot_result):\n",
    "        # collect votes to topic_id\n",
    "        # first round, rank=1\n",
    "        \n",
    "        \n",
    "        ballot_votes = {actor._id: int(pd.pivot_table(actor.policy_rank.reset_index(), index=[\"topic_id\", \"rank\"], values=[\"policy_id\"]).ix[(topic_id,select_round)]) for actor in actors}\n",
    "        print ballot_votes\n",
    "        \n",
    "        ballot_result = pd.concat([ballot_result, pd.DataFrame({\"actor_id\": ballot_votes.keys(), \"round %s\" %(select_round,):ballot_votes.values()}).set_index(\"actor_id\")], axis=1)\n",
    "        if select_round==2:\n",
    "            print (\"hi\")\n",
    "\n",
    "        selected_policy_id_list = list(my_mode_func(ballot_result))\n",
    "        \n",
    "        print (len(selected_policy_id_list))\n",
    "        print (selected_policy_id_list)\n",
    "        # check if run-off\n",
    "        if len(selected_policy_id_list)>1:\n",
    "            # remain set of actor_id\n",
    "            remain_actors_id = set(ballot_result[~ballot_result[\"round %s\" %(select_round,)].isin(selected_policy_id_list)].index.values)\n",
    "            select_round += 1\n",
    "            remain_actors = [actor for actor in actors if actor._id in remain_actors_id]\n",
    "            \n",
    "            return BallotEngine.ballot_one_topic(topic_id, remain_actors, select_round, ballot_result)\n",
    "            \n",
    "        else:\n",
    "            return selected_policy_id_list, ballot_result"
   ]
  },
  {
   "cell_type": "code",
   "execution_count": 280,
   "metadata": {
    "collapsed": false
   },
   "outputs": [
    {
     "name": "stdout",
     "output_type": "stream",
     "text": [
      "[<lib.actor.Actor instance at 0x7fba9169df38>, <lib.actor.Actor instance at 0x7fba9169df80>, <lib.actor.Actor instance at 0x7fba9169dfc8>, <lib.actor.Actor instance at 0x7fba9169b050>, <lib.actor.Actor instance at 0x7fba9169b098>, <lib.actor.Actor instance at 0x7fba9169b0e0>, <lib.actor.Actor instance at 0x7fba9169b128>]\n",
      "1\n",
      "Empty DataFrame\n",
      "Columns: []\n",
      "Index: [1, 2, 3, 4, 5, 6, 7]\n"
     ]
    }
   ],
   "source": [
    "print (actors)\n",
    "select_round = 1\n",
    "print (select_round)\n",
    "ballot_result = pd.DataFrame({\"actor_id\":[actor._id for actor in actors]}).set_index(\"actor_id\")\n",
    "print (ballot_result)"
   ]
  },
  {
   "cell_type": "code",
   "execution_count": 282,
   "metadata": {
    "collapsed": false
   },
   "outputs": [
    {
     "name": "stdout",
     "output_type": "stream",
     "text": [
      "{'1': 2, '3': 3, '2': 3, '5': 1, '4': 1, '7': 3, '6': 1}\n",
      "2\n",
      "[1, 3]\n",
      "{'1': 3}\n",
      "hi\n",
      "1\n",
      "[3.0]\n"
     ]
    }
   ],
   "source": [
    "x = BallotEngine.ballot_one_topic(2,actors,select_round,ballot_result)"
   ]
  },
  {
   "cell_type": "code",
   "execution_count": 285,
   "metadata": {
    "collapsed": false
   },
   "outputs": [
    {
     "data": {
      "text/html": [
       "<div>\n",
       "<table border=\"1\" class=\"dataframe\">\n",
       "  <thead>\n",
       "    <tr style=\"text-align: right;\">\n",
       "      <th></th>\n",
       "      <th>round 1</th>\n",
       "      <th>round 2</th>\n",
       "    </tr>\n",
       "  </thead>\n",
       "  <tbody>\n",
       "    <tr>\n",
       "      <th>1</th>\n",
       "      <td>2</td>\n",
       "      <td>3</td>\n",
       "    </tr>\n",
       "    <tr>\n",
       "      <th>2</th>\n",
       "      <td>3</td>\n",
       "      <td>NaN</td>\n",
       "    </tr>\n",
       "    <tr>\n",
       "      <th>3</th>\n",
       "      <td>3</td>\n",
       "      <td>NaN</td>\n",
       "    </tr>\n",
       "    <tr>\n",
       "      <th>4</th>\n",
       "      <td>1</td>\n",
       "      <td>NaN</td>\n",
       "    </tr>\n",
       "    <tr>\n",
       "      <th>5</th>\n",
       "      <td>1</td>\n",
       "      <td>NaN</td>\n",
       "    </tr>\n",
       "    <tr>\n",
       "      <th>6</th>\n",
       "      <td>1</td>\n",
       "      <td>NaN</td>\n",
       "    </tr>\n",
       "    <tr>\n",
       "      <th>7</th>\n",
       "      <td>3</td>\n",
       "      <td>NaN</td>\n",
       "    </tr>\n",
       "  </tbody>\n",
       "</table>\n",
       "</div>"
      ],
      "text/plain": [
       "   round 1  round 2\n",
       "1        2        3\n",
       "2        3      NaN\n",
       "3        3      NaN\n",
       "4        1      NaN\n",
       "5        1      NaN\n",
       "6        1      NaN\n",
       "7        3      NaN"
      ]
     },
     "execution_count": 285,
     "metadata": {},
     "output_type": "execute_result"
    }
   ],
   "source": [
    "x[1]"
   ]
  },
  {
   "cell_type": "code",
   "execution_count": 268,
   "metadata": {
    "collapsed": true
   },
   "outputs": [],
   "source": [
    "def my_mode_func(x):\n",
    "    new_column = x.ix[:,-1]\n",
    "    res = new_column.mode()\n",
    "    if res.empty:\n",
    "        # pd mode Empty if nothing has 2+ occurrences\n",
    "        #scipy.stats.mode\n",
    "        res = mode(new_column)[0]\n",
    "        return res\n",
    "    else:\n",
    "        return res.values"
   ]
  },
  {
   "cell_type": "code",
   "execution_count": 276,
   "metadata": {
    "collapsed": false
   },
   "outputs": [
    {
     "data": {
      "text/html": [
       "<div>\n",
       "<table border=\"1\" class=\"dataframe\">\n",
       "  <thead>\n",
       "    <tr style=\"text-align: right;\">\n",
       "      <th></th>\n",
       "      <th>round 1</th>\n",
       "    </tr>\n",
       "  </thead>\n",
       "  <tbody>\n",
       "    <tr>\n",
       "      <th>1</th>\n",
       "      <td>2</td>\n",
       "    </tr>\n",
       "    <tr>\n",
       "      <th>2</th>\n",
       "      <td>3</td>\n",
       "    </tr>\n",
       "    <tr>\n",
       "      <th>3</th>\n",
       "      <td>3</td>\n",
       "    </tr>\n",
       "    <tr>\n",
       "      <th>4</th>\n",
       "      <td>1</td>\n",
       "    </tr>\n",
       "    <tr>\n",
       "      <th>5</th>\n",
       "      <td>1</td>\n",
       "    </tr>\n",
       "    <tr>\n",
       "      <th>6</th>\n",
       "      <td>1</td>\n",
       "    </tr>\n",
       "    <tr>\n",
       "      <th>7</th>\n",
       "      <td>3</td>\n",
       "    </tr>\n",
       "  </tbody>\n",
       "</table>\n",
       "</div>"
      ],
      "text/plain": [
       "   round 1\n",
       "1        2\n",
       "2        3\n",
       "3        3\n",
       "4        1\n",
       "5        1\n",
       "6        1\n",
       "7        3"
      ]
     },
     "execution_count": 276,
     "metadata": {},
     "output_type": "execute_result"
    }
   ],
   "source": [
    "pd.DataFrame(x.ix[:,0])"
   ]
  },
  {
   "cell_type": "code",
   "execution_count": 278,
   "metadata": {
    "collapsed": false
   },
   "outputs": [
    {
     "name": "stdout",
     "output_type": "stream",
     "text": [
      "<type 'numpy.ndarray'>\n"
     ]
    }
   ],
   "source": [
    "print (type(my_mode_func(pd.DataFrame(x.ix[:,0]))))"
   ]
  },
  {
   "cell_type": "code",
   "execution_count": 193,
   "metadata": {
    "collapsed": false
   },
   "outputs": [
    {
     "data": {
      "text/plain": [
       "array([1, 3])"
      ]
     },
     "execution_count": 193,
     "metadata": {},
     "output_type": "execute_result"
    }
   ],
   "source": [
    "y.ix[:,-1].mode().values"
   ]
  },
  {
   "cell_type": "code",
   "execution_count": 249,
   "metadata": {
    "collapsed": false
   },
   "outputs": [
    {
     "data": {
      "text/plain": [
       "ModeResult(mode=array([1]), count=array([3]))"
      ]
     },
     "execution_count": 249,
     "metadata": {},
     "output_type": "execute_result"
    }
   ],
   "source": [
    "mode([2,3,3,1,1,1,3])"
   ]
  },
  {
   "cell_type": "code",
   "execution_count": null,
   "metadata": {
    "collapsed": true
   },
   "outputs": [],
   "source": []
  },
  {
   "cell_type": "code",
   "execution_count": 149,
   "metadata": {
    "collapsed": false
   },
   "outputs": [],
   "source": [
    "initial_ballot_result = pd.DataFrame({\"actor_id\":[actor._id for actor in actors]}).set_index(\"actor_id\")"
   ]
  },
  {
   "cell_type": "code",
   "execution_count": 150,
   "metadata": {
    "collapsed": false
   },
   "outputs": [
    {
     "data": {
      "text/html": [
       "<div>\n",
       "<table border=\"1\" class=\"dataframe\">\n",
       "  <thead>\n",
       "    <tr style=\"text-align: right;\">\n",
       "      <th></th>\n",
       "    </tr>\n",
       "    <tr>\n",
       "      <th>actor_id</th>\n",
       "    </tr>\n",
       "  </thead>\n",
       "  <tbody>\n",
       "    <tr>\n",
       "      <th>1</th>\n",
       "    </tr>\n",
       "    <tr>\n",
       "      <th>2</th>\n",
       "    </tr>\n",
       "    <tr>\n",
       "      <th>3</th>\n",
       "    </tr>\n",
       "    <tr>\n",
       "      <th>4</th>\n",
       "    </tr>\n",
       "    <tr>\n",
       "      <th>5</th>\n",
       "    </tr>\n",
       "    <tr>\n",
       "      <th>6</th>\n",
       "    </tr>\n",
       "    <tr>\n",
       "      <th>7</th>\n",
       "    </tr>\n",
       "  </tbody>\n",
       "</table>\n",
       "</div>"
      ],
      "text/plain": [
       "Empty DataFrame\n",
       "Columns: []\n",
       "Index: [1, 2, 3, 4, 5, 6, 7]"
      ]
     },
     "execution_count": 150,
     "metadata": {},
     "output_type": "execute_result"
    }
   ],
   "source": [
    "initial_ballot_result"
   ]
  },
  {
   "cell_type": "markdown",
   "metadata": {},
   "source": [
    "#### ballot"
   ]
  },
  {
   "cell_type": "code",
   "execution_count": 141,
   "metadata": {
    "collapsed": false
   },
   "outputs": [],
   "source": [
    "ballot_votes = {actor._id:pd.pivot_table(actor.policy_rank.reset_index(),index=[\"topic_id\", \"rank\"],values=[\"policy_id\"]).ix[(2,1)].values[0] for actor in actors}"
   ]
  },
  {
   "cell_type": "code",
   "execution_count": 142,
   "metadata": {
    "collapsed": false
   },
   "outputs": [
    {
     "data": {
      "text/plain": [
       "{'1': 2, '2': 3, '3': 3, '4': 1, '5': 1, '6': 1, '7': 3}"
      ]
     },
     "execution_count": 142,
     "metadata": {},
     "output_type": "execute_result"
    }
   ],
   "source": [
    "ballot_votes"
   ]
  },
  {
   "cell_type": "code",
   "execution_count": 131,
   "metadata": {
    "collapsed": false
   },
   "outputs": [],
   "source": [
    "ballot_result = pd.DataFrame({\"actor_id\": ballot_votes.keys(), \"selected_policy_id\":ballot_votes.values()}).set_index(\"actor_id\")"
   ]
  },
  {
   "cell_type": "code",
   "execution_count": 152,
   "metadata": {
    "collapsed": false
   },
   "outputs": [
    {
     "data": {
      "text/html": [
       "<div>\n",
       "<table border=\"1\" class=\"dataframe\">\n",
       "  <thead>\n",
       "    <tr style=\"text-align: right;\">\n",
       "      <th></th>\n",
       "      <th>selected_policy_id</th>\n",
       "    </tr>\n",
       "  </thead>\n",
       "  <tbody>\n",
       "    <tr>\n",
       "      <th>1</th>\n",
       "      <td>2</td>\n",
       "    </tr>\n",
       "    <tr>\n",
       "      <th>2</th>\n",
       "      <td>3</td>\n",
       "    </tr>\n",
       "    <tr>\n",
       "      <th>3</th>\n",
       "      <td>3</td>\n",
       "    </tr>\n",
       "    <tr>\n",
       "      <th>4</th>\n",
       "      <td>1</td>\n",
       "    </tr>\n",
       "    <tr>\n",
       "      <th>5</th>\n",
       "      <td>1</td>\n",
       "    </tr>\n",
       "    <tr>\n",
       "      <th>6</th>\n",
       "      <td>1</td>\n",
       "    </tr>\n",
       "    <tr>\n",
       "      <th>7</th>\n",
       "      <td>3</td>\n",
       "    </tr>\n",
       "  </tbody>\n",
       "</table>\n",
       "</div>"
      ],
      "text/plain": [
       "   selected_policy_id\n",
       "1                   2\n",
       "2                   3\n",
       "3                   3\n",
       "4                   1\n",
       "5                   1\n",
       "6                   1\n",
       "7                   3"
      ]
     },
     "execution_count": 152,
     "metadata": {},
     "output_type": "execute_result"
    }
   ],
   "source": [
    "pd.concat([initial_ballot_result, ballot_result], axis=1)"
   ]
  },
  {
   "cell_type": "code",
   "execution_count": 148,
   "metadata": {
    "collapsed": false
   },
   "outputs": [
    {
     "data": {
      "text/html": [
       "<div>\n",
       "<table border=\"1\" class=\"dataframe\">\n",
       "  <thead>\n",
       "    <tr style=\"text-align: right;\">\n",
       "      <th></th>\n",
       "      <th>selected_policy_id</th>\n",
       "    </tr>\n",
       "    <tr>\n",
       "      <th>actor_id</th>\n",
       "      <th></th>\n",
       "    </tr>\n",
       "  </thead>\n",
       "  <tbody>\n",
       "    <tr>\n",
       "      <th>1</th>\n",
       "      <td>2</td>\n",
       "    </tr>\n",
       "    <tr>\n",
       "      <th>3</th>\n",
       "      <td>3</td>\n",
       "    </tr>\n",
       "    <tr>\n",
       "      <th>2</th>\n",
       "      <td>3</td>\n",
       "    </tr>\n",
       "    <tr>\n",
       "      <th>5</th>\n",
       "      <td>1</td>\n",
       "    </tr>\n",
       "    <tr>\n",
       "      <th>4</th>\n",
       "      <td>1</td>\n",
       "    </tr>\n",
       "    <tr>\n",
       "      <th>7</th>\n",
       "      <td>3</td>\n",
       "    </tr>\n",
       "    <tr>\n",
       "      <th>6</th>\n",
       "      <td>1</td>\n",
       "    </tr>\n",
       "  </tbody>\n",
       "</table>\n",
       "</div>"
      ],
      "text/plain": [
       "          selected_policy_id\n",
       "actor_id                    \n",
       "1                          2\n",
       "3                          3\n",
       "2                          3\n",
       "5                          1\n",
       "4                          1\n",
       "7                          3\n",
       "6                          1"
      ]
     },
     "execution_count": 148,
     "metadata": {},
     "output_type": "execute_result"
    }
   ],
   "source": [
    "ballot_result"
   ]
  },
  {
   "cell_type": "code",
   "execution_count": 161,
   "metadata": {
    "collapsed": false
   },
   "outputs": [
    {
     "data": {
      "text/plain": [
       "[1, 3]"
      ]
     },
     "execution_count": 161,
     "metadata": {},
     "output_type": "execute_result"
    }
   ],
   "source": [
    "list(ballot_result.mode().values.flatten())"
   ]
  },
  {
   "cell_type": "code",
   "execution_count": 168,
   "metadata": {
    "collapsed": false
   },
   "outputs": [
    {
     "data": {
      "text/plain": [
       "array(['1'], dtype=object)"
      ]
     },
     "execution_count": 168,
     "metadata": {},
     "output_type": "execute_result"
    }
   ],
   "source": [
    "set(ballot_result[~ballot_result[\"selected_policy_id\"].isin(list(ballot_result.mode().values.flatten()))].index.values)"
   ]
  },
  {
   "cell_type": "code",
   "execution_count": 163,
   "metadata": {
    "collapsed": false
   },
   "outputs": [
    {
     "data": {
      "text/html": [
       "<div>\n",
       "<table border=\"1\" class=\"dataframe\">\n",
       "  <thead>\n",
       "    <tr style=\"text-align: right;\">\n",
       "      <th></th>\n",
       "      <th>selected_policy_id</th>\n",
       "    </tr>\n",
       "    <tr>\n",
       "      <th>actor_id</th>\n",
       "      <th></th>\n",
       "    </tr>\n",
       "  </thead>\n",
       "  <tbody>\n",
       "    <tr>\n",
       "      <th>1</th>\n",
       "      <td>2</td>\n",
       "    </tr>\n",
       "    <tr>\n",
       "      <th>3</th>\n",
       "      <td>3</td>\n",
       "    </tr>\n",
       "    <tr>\n",
       "      <th>2</th>\n",
       "      <td>3</td>\n",
       "    </tr>\n",
       "    <tr>\n",
       "      <th>5</th>\n",
       "      <td>1</td>\n",
       "    </tr>\n",
       "    <tr>\n",
       "      <th>4</th>\n",
       "      <td>1</td>\n",
       "    </tr>\n",
       "    <tr>\n",
       "      <th>7</th>\n",
       "      <td>3</td>\n",
       "    </tr>\n",
       "    <tr>\n",
       "      <th>6</th>\n",
       "      <td>1</td>\n",
       "    </tr>\n",
       "  </tbody>\n",
       "</table>\n",
       "</div>"
      ],
      "text/plain": [
       "          selected_policy_id\n",
       "actor_id                    \n",
       "1                          2\n",
       "3                          3\n",
       "2                          3\n",
       "5                          1\n",
       "4                          1\n",
       "7                          3\n",
       "6                          1"
      ]
     },
     "execution_count": 163,
     "metadata": {},
     "output_type": "execute_result"
    }
   ],
   "source": [
    "ballot_result"
   ]
  }
 ],
 "metadata": {
  "kernelspec": {
   "display_name": "Python 2",
   "language": "python",
   "name": "python2"
  },
  "language_info": {
   "codemirror_mode": {
    "name": "ipython",
    "version": 2
   },
   "file_extension": ".py",
   "mimetype": "text/x-python",
   "name": "python",
   "nbconvert_exporter": "python",
   "pygments_lexer": "ipython2",
   "version": "2.7.11"
  }
 },
 "nbformat": 4,
 "nbformat_minor": 0
}
