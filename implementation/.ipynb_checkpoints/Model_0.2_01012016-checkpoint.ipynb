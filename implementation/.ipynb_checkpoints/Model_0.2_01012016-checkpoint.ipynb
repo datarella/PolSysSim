{
 "cells": [
  {
   "cell_type": "code",
   "execution_count": 11,
   "metadata": {
    "collapsed": false
   },
   "outputs": [],
   "source": [
    "from lib import actor\n",
    "import pandas as pd"
   ]
  },
  {
   "cell_type": "markdown",
   "metadata": {},
   "source": [
    "## Vote Engine"
   ]
  },
  {
   "cell_type": "code",
   "execution_count": null,
   "metadata": {
    "collapsed": true
   },
   "outputs": [],
   "source": []
  },
  {
   "cell_type": "markdown",
   "metadata": {
    "collapsed": false
   },
   "source": [
    "Example 4.1 Grassroot democracy"
   ]
  },
  {
   "cell_type": "code",
   "execution_count": 1,
   "metadata": {
    "collapsed": true
   },
   "outputs": [],
   "source": [
    "group_dict = {0:[1,2,3,4,5,6,7]}\n",
    "topic_dict = {0:3,1:3,2:3}"
   ]
  },
  {
   "cell_type": "code",
   "execution_count": 4,
   "metadata": {
    "collapsed": true
   },
   "outputs": [],
   "source": [
    "generate_motivation_params = {\"method\":\"manual\", \"motivations\":{\"1\":0.8, \"2\":0.52, \"3\":0.3, \"4\":0.44, \n",
    "                                                                  \"5\":0.42, \"6\":0.57, \"7\":0.36}}"
   ]
  },
  {
   "cell_type": "code",
   "execution_count": 8,
   "metadata": {
    "collapsed": true
   },
   "outputs": [],
   "source": [
    "beliefs = {\n",
    "    \"1\": {(1,1):1.35, (1,2):2.47, (1,3):2.54,\n",
    "          (2,1):0.19, (2,2):2.49, (2,3):1.75,\n",
    "          (3,1):1.95, (3,2):1.10, (3,3):2.67},\n",
    "    \"2\": {(1,1):0.88, (1,2):2.03, (1,3):0.67,\n",
    "          (2,1):0.90, (2,2):0.64, (2,3):1.04,\n",
    "          (3,1):1.46, (3,2):1.71, (3,3):2.20},\n",
    "    \"3\": {(1,1):0.20, (1,2):2.59, (1,3):1.50,\n",
    "          (2,1):0.11, (2,2):2.08, (2,3):2.51,\n",
    "          (3,1):1.75, (3,2):1.60, (3,3):0.16},\n",
    "    \"4\": {(1,1):1.22, (1,2):2.36, (1,3):1.87,\n",
    "          (2,1):2.72, (2,2):2.22, (2,3):2.25,\n",
    "          (3,1):1.49, (3,2):2.70, (3,3):0.03},\n",
    "    \"5\": {(1,1):0.67, (1,2):0.40, (1,3):0.04,\n",
    "          (2,1):2.52, (2,2):1.59, (2,3):1.81,\n",
    "          (3,1):2.17, (3,2):0.97, (3,3):0.75},\n",
    "    \"6\": {(1,1):0.57, (1,2):0.66, (1,3):1.98,\n",
    "          (2,1):2.06, (2,2):1.35, (2,3):1.42,\n",
    "          (3,1):1.79, (3,2):0.26, (3,3):0.87},\n",
    "    \"7\": {(1,1):2.67, (1,2):2.03, (1,3):1.81,\n",
    "          (2,1):0.43, (2,2):0.05, (2,3):2.38,\n",
    "          (3,1):2.39, (3,2):2.08, (3,3):1.29},\n",
    "}"
   ]
  },
  {
   "cell_type": "code",
   "execution_count": 26,
   "metadata": {
    "collapsed": true
   },
   "outputs": [],
   "source": [
    "generate_belief_params = {\"method\":\"manual\", \"beliefs\":beliefs}"
   ]
  },
  {
   "cell_type": "code",
   "execution_count": 13,
   "metadata": {
    "collapsed": true
   },
   "outputs": [],
   "source": [
    "topic_relevances = {\n",
    "    \"1\": {1:0.95, 2:0.78, 3:0.68},\n",
    "    \"2\": {1:0.86, 2:0.44, 3:0.28},\n",
    "    \"3\": {1:0.52, 2:0.02, 3:0.37},\n",
    "    \"4\": {1:0.20, 2:0.93, 3:0.20},\n",
    "    \"5\": {1:0.52, 2:0.21, 3:0.52},\n",
    "    \"6\": {1:0.50, 2:0.46, 3:0.74},\n",
    "    \"7\": {1:0.37, 2:0.41, 3:0.31},\n",
    "}"
   ]
  },
  {
   "cell_type": "code",
   "execution_count": 24,
   "metadata": {
    "collapsed": false
   },
   "outputs": [],
   "source": [
    "generate_topic_relevance_params = {\"method\":\"manual\", \"topic_relevances\": topic_relevances}"
   ]
  },
  {
   "cell_type": "code",
   "execution_count": 27,
   "metadata": {
    "collapsed": false
   },
   "outputs": [],
   "source": [
    "config={}\n",
    "config[\"generate_motivation_params\"] = generate_motivation_params\n",
    "config[\"generate_belief_params\"] = generate_belief_params\n",
    "config[\"generate_topic_relevance_params\"] = generate_topic_relevance_params"
   ]
  },
  {
   "cell_type": "code",
   "execution_count": 33,
   "metadata": {
    "collapsed": true
   },
   "outputs": [],
   "source": [
    "actors = []\n",
    "numOfActors = 7"
   ]
  },
  {
   "cell_type": "code",
   "execution_count": 34,
   "metadata": {
    "collapsed": false
   },
   "outputs": [
    {
     "ename": "SyntaxError",
     "evalue": "non-keyword arg after keyword arg (<ipython-input-34-0c37f09da498>, line 2)",
     "output_type": "error",
     "traceback": [
      "\u001b[1;36m  File \u001b[1;32m\"<ipython-input-34-0c37f09da498>\"\u001b[1;36m, line \u001b[1;32m2\u001b[0m\n\u001b[1;33m    motivations = generate_motivation(numOfActors=numOfActors, method=\"manual\", config)\u001b[0m\n\u001b[1;31mSyntaxError\u001b[0m\u001b[1;31m:\u001b[0m non-keyword arg after keyword arg\n"
     ]
    }
   ],
   "source": [
    "def _allocate_actors():\n",
    "    motivations = generate_motivation(numOfActors=numOfActors, method=\"manual\", config)\n",
    "    beliefs = generate_belief(numOfActors=numOfActors, method=\"manual\", config)\n",
    "    topic_relevances = generate_topic_relevance(numOfActors=numOfActors, method=\"manual\", config)\n",
    "        \n",
    "    for groupId,actor_id_list in group_dict.items():\n",
    "        for actor_id in actor_id_list:\n",
    "            motivation = motivations[actor_id]\n",
    "            belief = beliefs[actor_id]\n",
    "            topic_relevance = topic_relevances[actor_id]\n",
    "            actors.append(Actor(groupId=groupId,motivation=motivation,\n",
    "                                belief=belief,_id=actor_id,topic_relevance=topic_relevance))"
   ]
  },
  {
   "cell_type": "code",
   "execution_count": null,
   "metadata": {
    "collapsed": true
   },
   "outputs": [],
   "source": []
  },
  {
   "cell_type": "code",
   "execution_count": null,
   "metadata": {
    "collapsed": true
   },
   "outputs": [],
   "source": []
  },
  {
   "cell_type": "code",
   "execution_count": null,
   "metadata": {
    "collapsed": true
   },
   "outputs": [],
   "source": []
  },
  {
   "cell_type": "code",
   "execution_count": null,
   "metadata": {
    "collapsed": true
   },
   "outputs": [],
   "source": []
  }
 ],
 "metadata": {
  "kernelspec": {
   "display_name": "Python 2",
   "language": "python",
   "name": "python2"
  },
  "language_info": {
   "codemirror_mode": {
    "name": "ipython",
    "version": 2
   },
   "file_extension": ".py",
   "mimetype": "text/x-python",
   "name": "python",
   "nbconvert_exporter": "python",
   "pygments_lexer": "ipython2",
   "version": "2.7.11"
  }
 },
 "nbformat": 4,
 "nbformat_minor": 0
}
