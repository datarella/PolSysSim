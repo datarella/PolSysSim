{
 "cells": [
  {
   "cell_type": "code",
   "execution_count": 1,
   "metadata": {
    "collapsed": false
   },
   "outputs": [],
   "source": [
    "from lib.actor import Actor\n",
    "from lib.input_model import *\n",
    "import pandas as pd"
   ]
  },
  {
   "cell_type": "code",
   "execution_count": 2,
   "metadata": {
    "collapsed": true
   },
   "outputs": [],
   "source": [
    "Actor??"
   ]
  },
  {
   "cell_type": "markdown",
   "metadata": {},
   "source": [
    "## Vote Engine"
   ]
  },
  {
   "cell_type": "code",
   "execution_count": null,
   "metadata": {
    "collapsed": true
   },
   "outputs": [],
   "source": []
  },
  {
   "cell_type": "markdown",
   "metadata": {
    "collapsed": false
   },
   "source": [
    "Example 4.1 Grassroot democracy"
   ]
  },
  {
   "cell_type": "code",
   "execution_count": 3,
   "metadata": {
    "collapsed": true
   },
   "outputs": [],
   "source": [
    "group_dict = {0:[\"1\",\"2\",\"3\",\"4\",\"5\",\"6\",\"7\"]}\n",
    "topic_dict = {0:3,1:3,2:3}"
   ]
  },
  {
   "cell_type": "code",
   "execution_count": 4,
   "metadata": {
    "collapsed": true
   },
   "outputs": [],
   "source": [
    "generate_motivation_params = {\"method\":\"manual\", \"motivations\":{\"1\":0.8, \"2\":0.52, \"3\":0.3, \"4\":0.44, \n",
    "                                                                  \"5\":0.42, \"6\":0.57, \"7\":0.36}}"
   ]
  },
  {
   "cell_type": "code",
   "execution_count": 5,
   "metadata": {
    "collapsed": true
   },
   "outputs": [],
   "source": [
    "beliefs = {\n",
    "    \"1\": {(1,1):1.35, (1,2):2.47, (1,3):2.54,\n",
    "          (2,1):0.19, (2,2):2.49, (2,3):1.75,\n",
    "          (3,1):1.95, (3,2):1.10, (3,3):2.67},\n",
    "    \"2\": {(1,1):0.88, (1,2):2.03, (1,3):0.67,\n",
    "          (2,1):0.90, (2,2):0.64, (2,3):1.04,\n",
    "          (3,1):1.46, (3,2):1.71, (3,3):2.20},\n",
    "    \"3\": {(1,1):0.20, (1,2):2.59, (1,3):1.50,\n",
    "          (2,1):0.11, (2,2):2.08, (2,3):2.51,\n",
    "          (3,1):1.75, (3,2):1.60, (3,3):0.16},\n",
    "    \"4\": {(1,1):1.22, (1,2):2.36, (1,3):1.87,\n",
    "          (2,1):2.72, (2,2):2.22, (2,3):2.25,\n",
    "          (3,1):1.49, (3,2):2.70, (3,3):0.03},\n",
    "    \"5\": {(1,1):0.67, (1,2):0.40, (1,3):0.04,\n",
    "          (2,1):2.52, (2,2):1.59, (2,3):1.81,\n",
    "          (3,1):2.17, (3,2):0.97, (3,3):0.75},\n",
    "    \"6\": {(1,1):0.57, (1,2):0.66, (1,3):1.98,\n",
    "          (2,1):2.06, (2,2):1.35, (2,3):1.42,\n",
    "          (3,1):1.79, (3,2):0.26, (3,3):0.87},\n",
    "    \"7\": {(1,1):2.67, (1,2):2.03, (1,3):1.81,\n",
    "          (2,1):0.43, (2,2):0.05, (2,3):2.38,\n",
    "          (3,1):2.39, (3,2):2.08, (3,3):1.29},\n",
    "}"
   ]
  },
  {
   "cell_type": "code",
   "execution_count": 6,
   "metadata": {
    "collapsed": true
   },
   "outputs": [],
   "source": [
    "generate_belief_params = {\"method\":\"manual\", \"beliefs\":beliefs}"
   ]
  },
  {
   "cell_type": "code",
   "execution_count": 7,
   "metadata": {
    "collapsed": true
   },
   "outputs": [],
   "source": [
    "topic_relevances = {\n",
    "    \"1\": {1:0.95, 2:0.78, 3:0.68},\n",
    "    \"2\": {1:0.86, 2:0.44, 3:0.28},\n",
    "    \"3\": {1:0.52, 2:0.02, 3:0.37},\n",
    "    \"4\": {1:0.20, 2:0.93, 3:0.20},\n",
    "    \"5\": {1:0.52, 2:0.21, 3:0.52},\n",
    "    \"6\": {1:0.50, 2:0.46, 3:0.74},\n",
    "    \"7\": {1:0.37, 2:0.41, 3:0.31},\n",
    "}"
   ]
  },
  {
   "cell_type": "code",
   "execution_count": 8,
   "metadata": {
    "collapsed": false
   },
   "outputs": [],
   "source": [
    "generate_topic_relevance_params = {\"method\":\"manual\", \"topic_relevances\": topic_relevances}"
   ]
  },
  {
   "cell_type": "code",
   "execution_count": 9,
   "metadata": {
    "collapsed": false
   },
   "outputs": [],
   "source": [
    "config={}\n",
    "config[\"generate_motivation_params\"] = generate_motivation_params\n",
    "config[\"generate_belief_params\"] = generate_belief_params\n",
    "config[\"generate_topic_relevance_params\"] = generate_topic_relevance_params"
   ]
  },
  {
   "cell_type": "code",
   "execution_count": 10,
   "metadata": {
    "collapsed": true
   },
   "outputs": [],
   "source": [
    "actors = []\n",
    "numOfActors = 7"
   ]
  },
  {
   "cell_type": "code",
   "execution_count": 11,
   "metadata": {
    "collapsed": false
   },
   "outputs": [],
   "source": [
    "def _allocate_actors():\n",
    "    motivations = generate_motivation(numOfActors,**config[\"generate_motivation_params\"])\n",
    "    beliefs = generate_belief(numOfActors,**config[\"generate_belief_params\"])\n",
    "    topic_relevances = generate_topic_relevance(numOfActors, **config[\"generate_topic_relevance_params\"])\n",
    "        \n",
    "    for groupId,actor_id_list in group_dict.items():\n",
    "        for actor_id in actor_id_list:\n",
    "            motivation = motivations[actor_id]\n",
    "            belief = beliefs[actor_id]\n",
    "            topic_relevance = topic_relevances[actor_id]\n",
    "            actors.append(Actor(groupId=groupId,motivation=motivation,\n",
    "                                belief=belief,_id=actor_id,topic_relevance=topic_relevance))"
   ]
  },
  {
   "cell_type": "code",
   "execution_count": 12,
   "metadata": {
    "collapsed": false
   },
   "outputs": [],
   "source": [
    "_allocate_actors()"
   ]
  },
  {
   "cell_type": "code",
   "execution_count": 13,
   "metadata": {
    "collapsed": false
   },
   "outputs": [
    {
     "data": {
      "text/plain": [
       "[<lib.actor.Actor instance at 0x7f5c276134d0>,\n",
       " <lib.actor.Actor instance at 0x7f5c27613518>,\n",
       " <lib.actor.Actor instance at 0x7f5c27613560>,\n",
       " <lib.actor.Actor instance at 0x7f5c276135a8>,\n",
       " <lib.actor.Actor instance at 0x7f5c276135f0>,\n",
       " <lib.actor.Actor instance at 0x7f5c27613638>,\n",
       " <lib.actor.Actor instance at 0x7f5c27613680>]"
      ]
     },
     "execution_count": 13,
     "metadata": {},
     "output_type": "execute_result"
    }
   ],
   "source": [
    "actors"
   ]
  },
  {
   "cell_type": "code",
   "execution_count": 18,
   "metadata": {
    "collapsed": false
   },
   "outputs": [
    {
     "data": {
      "text/plain": [
       "{1: 0.95, 2: 0.78, 3: 0.68}"
      ]
     },
     "execution_count": 18,
     "metadata": {},
     "output_type": "execute_result"
    }
   ],
   "source": [
    "actors[0].topic_relevance"
   ]
  },
  {
   "cell_type": "code",
   "execution_count": null,
   "metadata": {
    "collapsed": true
   },
   "outputs": [],
   "source": []
  }
 ],
 "metadata": {
  "kernelspec": {
   "display_name": "Python 2",
   "language": "python",
   "name": "python2"
  },
  "language_info": {
   "codemirror_mode": {
    "name": "ipython",
    "version": 2
   },
   "file_extension": ".py",
   "mimetype": "text/x-python",
   "name": "python",
   "nbconvert_exporter": "python",
   "pygments_lexer": "ipython2",
   "version": "2.7.11"
  }
 },
 "nbformat": 4,
 "nbformat_minor": 0
}
